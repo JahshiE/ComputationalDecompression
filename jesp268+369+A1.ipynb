{
 "cells": [
  {
   "cell_type": "markdown",
   "metadata": {},
   "source": [
    "# COMPSCI369 - Assignment 1\n",
    "\n",
    "### jesp268 - 7th March 2018\n",
    "\n",
    "## Problem 0 - Working with Jupyter Notebooks\n",
    "\n",
    "Answering questions:\n",
    "- problem 0\n",
    "- problem 1\n",
    "- problem 2\n",
    "- problem 3\n",
    "\n",
    "It is easy to type maths in markdown, it is like Latex. We can write inline maths\n",
    "like $f(x) = x^2$ or displayed maths such as <br>\n",
    "$$ a = \\begin{bmatrix}\n",
    "            1 \\\\\n",
    "            2 \\\\\n",
    "            3 \\\\\n",
    "        \\end{bmatrix} $$\n",
    "        \n",
    "![Image of Jupiter](https://upload.wikimedia.org/wikipedia/commons/thumb/2/2b/Jupiter_and_its_shrunken_Great_Red_Spot.jpg/330px-Jupiter_and_its_shrunken_Great_Red_Spot.jpg)"
   ]
  },
  {
   "cell_type": "code",
   "execution_count": 2,
   "metadata": {},
   "outputs": [
    {
     "data": {
      "text/plain": [
       "<Figure size 640x480 with 1 Axes>"
      ]
     },
     "metadata": {},
     "output_type": "display_data"
    }
   ],
   "source": [
    "import matplotlib.pyplot as plt\n",
    "import numpy as np\n",
    "import math\n",
    "\n",
    "x = np.linspace(-10, 10) \n",
    "plt.plot(x, x**2 - 5)\n",
    "plt.show()"
   ]
  },
  {
   "cell_type": "markdown",
   "metadata": {},
   "source": [
    "## Problem 1 - Root Finding\n",
    "\n",
    "### a) Newton's root finding algorithm equation\n",
    "\n",
    "For $ f(x) = 20x^3 - 50x^2 + 3x + 20: $\n",
    "\n",
    "$$ x_i = x_{i-1} - \\frac{20x_{i-1}^3 - 50x_{i-1}^2 + 3x_{i-1} + 20}{60x_{i-1}^2 - 100x_{i-1} + 3} $$\n",
    "\n",
    "For $ g(x) = e^{0.5x} - e^{0.6x} + 4: $\n",
    "\n",
    "$$ x_i = x_{i-1} - \\frac{e^{0.5x_{i-1}} - e^{0.6x_{i-1}} + 4}{0.5e^{0.5x_{i-1}} - 0.6e^{0.6x_{i-1}} + 4} $$"
   ]
  },
  {
   "cell_type": "markdown",
   "metadata": {},
   "source": [
    "### b)\n",
    "Using Newton's method for $f(x)$:"
   ]
  },
  {
   "cell_type": "code",
   "execution_count": 3,
   "metadata": {},
   "outputs": [
    {
     "name": "stdout",
     "output_type": "stream",
     "text": [
      "Iteration       x_i             f(x_i)          \n",
      "0               -6.66667        -8148.15        \n",
      "1               -4.22442        -2392.72        \n",
      "2               -2.62521        -694.306        \n",
      "3               -1.6027         -195.577        \n",
      "4               -0.986499       -50.8194        \n",
      "5               -0.668959       -10.3695        \n",
      "6               -0.561777       -1.01087        \n",
      "7               -0.548836       -0.0139752      \n",
      "8               -0.548652       -2.8072e-06     \n",
      "9               -0.548652       -1.1724e-13     \n"
     ]
    }
   ],
   "source": [
    "def f(x):\n",
    "    return 20*x**3 - 50*x**2 + 3*x + 20\n",
    "def f_deriv(x):\n",
    "    return 60*x**2 - 100*x + 3\n",
    "\n",
    "def newtonsMethod (fn, fn_deriv, start_position, epsilon):\n",
    "    ## fn is the function in consideration\n",
    "    x0 = start_position\n",
    "    i = 0\n",
    "    x1 = x0 - (fn(x0))/(fn_deriv(x0))\n",
    "\n",
    "    print('{:<16s}{:<16s}{:<16s}'.format('Iteration','x_i','f(x_i)'))\n",
    "\n",
    "    difference = abs(x1-x0)\n",
    "    x_old = x0\n",
    "    while (difference > epsilon):\n",
    "        x_new = x_old - (fn(x_old))/(fn_deriv(x_old))\n",
    "\n",
    "        print('{:<16g}{:<16g}{:<16g}'.format(i, x_new, fn(x_new)))\n",
    "\n",
    "        difference = abs(x_new - x_old)\n",
    "        x_old = x_new\n",
    "        i += 1\n",
    "    \n",
    "    #return x_old\n",
    "\n",
    "newtonsMethod(f, f_deriv, 0, 0.0001)"
   ]
  },
  {
   "cell_type": "markdown",
   "metadata": {},
   "source": [
    "Using Newton's method for $g(x)$:"
   ]
  },
  {
   "cell_type": "code",
   "execution_count": 4,
   "metadata": {},
   "outputs": [
    {
     "name": "stdout",
     "output_type": "stream",
     "text": [
      "Iteration       x_i             f(x_i)          \n",
      "0               40              -2.6004e+10     \n",
      "1               38.3385         -9.56366e+09    \n",
      "2               36.678          -3.51711e+09    \n",
      "3               35.0185         -1.29337e+09    \n",
      "4               33.3605         -4.7558e+08     \n",
      "5               31.704          -1.74859e+08    \n",
      "6               30.0494         -6.42841e+07    \n",
      "7               28.3971         -2.363e+07      \n",
      "8               26.7475         -8.68468e+06    \n",
      "9               25.1011         -3.19124e+06    \n",
      "10              23.4587         -1.17236e+06    \n",
      "11              21.8209         -430563         \n",
      "12              20.1889         -158070         \n",
      "13              18.5637         -58004.1        \n",
      "14              16.947          -21271.5        \n",
      "15              15.3409         -7794.19        \n",
      "16              13.7481         -2852.4         \n",
      "17              12.1726         -1041.81        \n",
      "18              10.6211         -379.15         \n",
      "19              9.10532         -136.964        \n",
      "20              7.64929         -48.6359        \n",
      "21              6.30439         -16.5442        \n",
      "22              5.17626         -5.02126        \n",
      "23              4.43163         -1.11281        \n",
      "24              4.15235         -0.104388       \n",
      "25              4.12033         -0.00119838     \n",
      "26              4.11995         -1.63002e-07    \n",
      "27              4.11995         -3.55271e-15    \n"
     ]
    }
   ],
   "source": [
    "def g(x):\n",
    "    return math.e**(0.5*x) - math.e**(0.6*x) + 4\n",
    "def g_deriv(x):\n",
    "    return 0.5*math.e**(0.5*x) - 0.6*math.e**(0.6*x)\n",
    "\n",
    "newtonsMethod(g, g_deriv, 0, 0.0001)"
   ]
  },
  {
   "cell_type": "markdown",
   "metadata": {},
   "source": [
    "### c)\n",
    "\n",
    "Using the Bisection method for $f(x)$:"
   ]
  },
  {
   "cell_type": "code",
   "execution_count": 5,
   "metadata": {},
   "outputs": [
    {
     "name": "stdout",
     "output_type": "stream",
     "text": [
      "Iteration       a               b               \n",
      "0               0               1               11.5            \n",
      "1               0.5             1               2.5625          \n",
      "2               0.75            1               -2.25781        \n",
      "3               0.75            0.875           0.157227        \n",
      "4               0.8125          0.875           -1.0509         \n",
      "5               0.8125          0.84375         -0.446762       \n",
      "6               0.8125          0.828125        -0.14472        \n",
      "7               0.8125          0.820312        0.00626874      \n",
      "8               0.816406        0.820312        -0.0692222      \n",
      "9               0.816406        0.818359        -0.0314758      \n",
      "10              0.816406        0.817383        -0.0126033      \n",
      "11              0.816406        0.816895        -0.00316723     \n",
      "12              0.816406        0.81665         0.00155077      \n",
      "13              0.816528        0.81665         -0.000808224    \n"
     ]
    }
   ],
   "source": [
    "def bisectionMethod (fn, start_a, start_b, epsilon):\n",
    "    ## fn is the function in consideration\n",
    "    i = 0\n",
    "    a = start_a\n",
    "    b = start_b\n",
    "\n",
    "    def sign(x):\n",
    "        if x >= 0:\n",
    "            return +1\n",
    "        else:\n",
    "            return -1\n",
    "\n",
    "    print('{:<16s}{:<16s}{:<16s}'.format('Iteration','a','b','f(x)'))\n",
    "    \n",
    "    difference = abs(a-b)\n",
    "    while (difference > epsilon):\n",
    "        c = (a+b) / 2\n",
    "            \n",
    "        print('{:<16g}{:<16g}{:<16g}{:<16g}'.format(i, a, b, fn(c)))\n",
    "\n",
    "        if sign(fn(a)) == sign(fn(c)):\n",
    "            a = c\n",
    "        else:\n",
    "            b = c\n",
    "        \n",
    "        difference = abs(a-b)\n",
    "        i += 1\n",
    "    \n",
    "    #return c\n",
    "    \n",
    "bisectionMethod(f, 0, 1, 0.0001)"
   ]
  },
  {
   "cell_type": "markdown",
   "metadata": {},
   "source": [
    "However, locating the a root using Newton's method, starting from 0 gives a different root (above). Therefore, locating the same root starting from 0.3 gives:"
   ]
  },
  {
   "cell_type": "code",
   "execution_count": 6,
   "metadata": {},
   "outputs": [
    {
     "name": "stdout",
     "output_type": "stream",
     "text": [
      "Iteration       x_i             f(x_i)          \n",
      "0               1.08426         -10.0346        \n",
      "1               0.796642        0.769596        \n",
      "2               0.816587        -0.000717073    \n",
      "3               0.816568        -3.45981e-10    \n"
     ]
    }
   ],
   "source": [
    "newtonsMethod(f, f_deriv, 0.3, 0.0001)"
   ]
  },
  {
   "cell_type": "markdown",
   "metadata": {},
   "source": [
    "In comparing the speed of convergence between the Bisection and Newton's method on f(x), the Bisection method identifies the root with almost 5 times more iterations than Newton's method does (14 vs 4 iterations respectively) accurate to 0.0001."
   ]
  },
  {
   "cell_type": "markdown",
   "metadata": {},
   "source": [
    "## Problem 2 - SVD based data compression\n",
    "\n",
    "### a)\n"
   ]
  },
  {
   "cell_type": "code",
   "execution_count": 1,
   "metadata": {},
   "outputs": [],
   "source": [
    "from matplotlib import pyplot\n",
    "import re\n",
    "import matplotlib.pyplot as plt\n",
    "import numpy as np\n",
    "import math\n",
    "\n",
    "\n",
    "def read_pgm(filename, byteorder='>'):\n",
    "    \"\"\"Return image data from a raw PGM file as numpy array.\n",
    "\n",
    "    Format specification: http://netpbm.sourceforge.net/doc/pgm.html\n",
    "\n",
    "    \"\"\"\n",
    "    with open(filename, 'rb') as f:\n",
    "        buffer = f.read()\n",
    "    try:\n",
    "        header, width, height, maxval = re.search(\n",
    "            b\"(^P5\\s(?:\\s*#.*[\\r\\n])*\"\n",
    "            b\"(\\d+)\\s(?:\\s*#.*[\\r\\n])*\"\n",
    "            b\"(\\d+)\\s(?:\\s*#.*[\\r\\n])*\"\n",
    "            b\"(\\d+)\\s(?:\\s*#.*[\\r\\n]\\s)*)\", buffer).groups()\n",
    "    except AttributeError:\n",
    "        raise ValueError(\"Not a raw PGM file: '%s'\" % filename)\n",
    "    return np.frombuffer(buffer,\n",
    "                            dtype='u1' if int(maxval) < 256 else byteorder+'u2',\n",
    "                            count=int(width)*int(height),\n",
    "                            offset=len(header)\n",
    "                            ).reshape((int(height), int(width)))\n",
    "\n",
    "\n",
    "def display_pgm(array):\n",
    "    plt.imshow(array, pyplot.cm.gray)\n",
    "    plt.axis('off')\n",
    "    plt.show()\n",
    "\n",
    "\n",
    "image = read_pgm(\"A1PictureGray.pgm\")\n",
    "# Perform operations here\n",
    "#display_pgm(image)\n",
    "#for l in image:\n",
    "  #  print(l)"
   ]
  },
  {
   "cell_type": "code",
   "execution_count": 12,
   "metadata": {},
   "outputs": [
    {
     "name": "stdout",
     "output_type": "stream",
     "text": [
      "A = UDVt\n",
      "A:\n"
     ]
    },
    {
     "data": {
      "image/png": "[encoded data removed]",
      "text/plain": [
       "<Figure size 432x288 with 1 Axes>"
      ]
     },
     "metadata": {},
     "output_type": "display_data"
    },
    {
     "name": "stdout",
     "output_type": "stream",
     "text": [
      "U:\n"
     ]
    },
    {
     "data": {
      "image/png": "[encoded data removed]",
      "text/plain": [
       "<Figure size 432x288 with 1 Axes>"
      ]
     },
     "metadata": {},
     "output_type": "display_data"
    },
    {
     "name": "stdout",
     "output_type": "stream",
     "text": [
      "D:\n"
     ]
    },
    {
     "data": {
      "image/png": "[encoded data removed]",
      "text/plain": [
       "<Figure size 432x288 with 1 Axes>"
      ]
     },
     "metadata": {},
     "output_type": "display_data"
    },
    {
     "name": "stdout",
     "output_type": "stream",
     "text": [
      "Vt:\n"
     ]
    },
    {
     "data": {
      "image/png": "[encoded data removed]",
      "text/plain": [
       "<Figure size 432x288 with 1 Axes>"
      ]
     },
     "metadata": {},
     "output_type": "display_data"
    },
    {
     "data": {
      "text/plain": [
       "'\\nprint(\"A:\")\\ndisplay_pgm(image)\\n\\nprint(\"U:\")\\ndisplay_pgm(U)\\n\\nprint(\"D:\")\\ndisplay_pgm(D)\\n\\nprint(\"Vt:\")\\ndisplay_pgm(Vt)\\n'"
      ]
     },
     "execution_count": 12,
     "metadata": {},
     "output_type": "execute_result"
    }
   ],
   "source": [
    "import numpy as np\n",
    "import math\n",
    "\n",
    "def scaleMatrix(M, upper, lower = 0):\n",
    "    '''\n",
    "    Re-scales a matrix (M) values from a lower limit (lower) to an upper limit (upper)\n",
    "    '''\n",
    "    maxVal = np.amax(M)\n",
    "    minVal = np.amin(M)\n",
    "    for rowNum, row in enumerate(M):\n",
    "        for colNum, value in enumerate(row):\n",
    "            M[rowNum][colNum] = upper * ((value - minVal)/(maxVal - minVal))\n",
    "    \n",
    "    return M\n",
    "\n",
    "A = image\n",
    "U, d, Vt = np.linalg.svd(A)\n",
    "D = np.diag(d)\n",
    "\n",
    "print('A = UDVt')\n",
    "print(\"A:\")\n",
    "display_pgm(image)\n",
    "\n",
    "U = scaleMatrix(U, 255, 0)   \n",
    "print(\"U:\")\n",
    "display_pgm(U) \n",
    "\n",
    "D = scaleMatrix(D, 255, 0)\n",
    "print(\"D:\")\n",
    "display_pgm(D) \n",
    "\n",
    "Vt = scaleMatrix(Vt, 255, 0)\n",
    "print(\"Vt:\")\n",
    "display_pgm(Vt)"
   ]
  },
  {
   "cell_type": "markdown",
   "metadata": {},
   "source": [
    "### b)"
   ]
  },
  {
   "cell_type": "code",
   "execution_count": 34,
   "metadata": {},
   "outputs": [
    {
     "name": "stdout",
     "output_type": "stream",
     "text": [
      "original (p = 100)\n"
     ]
    },
    {
     "data": {
      "image/png": "[encoded data removed]",
      "text/plain": [
       "<Figure size 432x288 with 1 Axes>"
      ]
     },
     "metadata": {},
     "output_type": "display_data"
    },
    {
     "name": "stdout",
     "output_type": "stream",
     "text": [
      "p = 1 singular values\n"
     ]
    },
    {
     "data": {
      "image/png": "[encoded data removed]",
      "text/plain": [
       "<Figure size 432x288 with 1 Axes>"
      ]
     },
     "metadata": {},
     "output_type": "display_data"
    },
    {
     "name": "stdout",
     "output_type": "stream",
     "text": [
      "p = 2 singular values\n"
     ]
    },
    {
     "data": {
      "image/png": "[encoded data removed]",
      "text/plain": [
       "<Figure size 432x288 with 1 Axes>"
      ]
     },
     "metadata": {},
     "output_type": "display_data"
    },
    {
     "name": "stdout",
     "output_type": "stream",
     "text": [
      "p = 3 singular values\n"
     ]
    },
    {
     "data": {
      "image/png": "[encoded data removed]",
      "text/plain": [
       "<Figure size 432x288 with 1 Axes>"
      ]
     },
     "metadata": {},
     "output_type": "display_data"
    },
    {
     "name": "stdout",
     "output_type": "stream",
     "text": [
      "p = 4 singular values\n"
     ]
    },
    {
     "data": {
      "image/png": "[encoded data removed]",
      "text/plain": [
       "<Figure size 432x288 with 1 Axes>"
      ]
     },
     "metadata": {},
     "output_type": "display_data"
    },
    {
     "name": "stdout",
     "output_type": "stream",
     "text": [
      "p = 5 singular values\n"
     ]
    },
    {
     "data": {
      "image/png": "[encoded data removed]",
      "text/plain": [
       "<Figure size 432x288 with 1 Axes>"
      ]
     },
     "metadata": {},
     "output_type": "display_data"
    },
    {
     "name": "stdout",
     "output_type": "stream",
     "text": [
      "p = 10 singular values\n"
     ]
    },
    {
     "data": {
      "image/png": "[encoded data removed]",
      "text/plain": [
       "<Figure size 432x288 with 1 Axes>"
      ]
     },
     "metadata": {},
     "output_type": "display_data"
    },
    {
     "name": "stdout",
     "output_type": "stream",
     "text": [
      "p = 20 singular values\n"
     ]
    },
    {
     "data": {
      "image/png": "[encoded data removed]",
      "text/plain": [
       "<Figure size 432x288 with 1 Axes>"
      ]
     },
     "metadata": {},
     "output_type": "display_data"
    },
    {
     "name": "stdout",
     "output_type": "stream",
     "text": [
      "p = 30 singular values\n"
     ]
    },
    {
     "data": {
      "image/png": "[encoded data removed]",
      "text/plain": [
       "<Figure size 432x288 with 1 Axes>"
      ]
     },
     "metadata": {},
     "output_type": "display_data"
    },
    {
     "name": "stdout",
     "output_type": "stream",
     "text": [
      "p = 40 singular values\n"
     ]
    },
    {
     "data": {
      "image/png": "[encoded data removed]",
      "text/plain": [
       "<Figure size 432x288 with 1 Axes>"
      ]
     },
     "metadata": {},
     "output_type": "display_data"
    },
    {
     "name": "stdout",
     "output_type": "stream",
     "text": [
      "p = 90 singular values\n"
     ]
    },
    {
     "data": {
      "image/png": "[encoded data removed]",
      "text/plain": [
       "<Figure size 432x288 with 1 Axes>"
      ]
     },
     "metadata": {},
     "output_type": "display_data"
    }
   ],
   "source": [
    "import numpy as np\n",
    "import numpy.linalg\n",
    "\n",
    "Ahat = []\n",
    "m = U[:,0].size\n",
    "n = d.size\n",
    "\n",
    "for i in range(1, n+1):\n",
    "    Ahat.append(\n",
    "        numpy.matmul(\n",
    "            numpy.matmul(\n",
    "                U[:,:i],\n",
    "                numpy.diag(d[:i])\n",
    "            ),\n",
    "            Vt[:i,:]\n",
    "        )\n",
    "    )\n",
    "    \n",
    "print(\"original (p = 100)\")\n",
    "display_pgm(image)\n",
    "    #print('\\n')\n",
    "visualExamples = [1, 2, 3, 4, 5, 10, 20, 30, 40, 90]\n",
    "\n",
    "\n",
    "for i, exampleValue in enumerate(visualExamples):\n",
    "    #print(Ahat[value])\n",
    "    for cell, cellVal in np.ndenumerate(Ahat[exampleValue-1]):\n",
    "        if cellVal > 255:\n",
    "            Ahat[exampleValue-1][cell[0]][cell[1]] = 255\n",
    "        if cellVal < 0:\n",
    "            Ahat[exampleValue-1][cell[0]][cell[1]] = 0\n",
    "\n",
    "\n",
    "for i, exampleValue in enumerate(visualExamples):\n",
    "    print('p = {} singular values'.format(exampleValue))\n",
    "    display_pgm(Ahat[exampleValue-1])\n",
    "    #pass"
   ]
  },
  {
   "cell_type": "markdown",
   "metadata": {},
   "source": [
    "### c)"
   ]
  },
  {
   "cell_type": "code",
   "execution_count": 37,
   "metadata": {},
   "outputs": [
    {
     "name": "stdout",
     "output_type": "stream",
     "text": [
      "[[ 78.46757962 118.98597259 191.26739903 ... 101.49651974 118.78043388\n",
      "  128.77890333]\n",
      " [ 79.24747468 115.14649043 190.45922382 ... 136.96747825 124.48620582\n",
      "  151.1211594 ]\n",
      " [ 79.33270365 111.84273164 194.20022455 ...  98.71702553  80.95149893\n",
      "  109.41033824]\n",
      " ...\n",
      " [105.09879374  80.12963763 114.77620249 ... 204.1613261  122.9890269\n",
      "  139.92245945]\n",
      " [104.56192496  76.17012016 114.50485938 ...  75.38960551 205.27003959\n",
      "  116.79328505]\n",
      " [105.85320839  80.71444806 116.24977186 ...  85.81204838 131.58709555\n",
      "  143.11809204]]\n",
      "[[ 78.46757962]\n",
      " [ 79.24747468]\n",
      " [ 79.33270365]\n",
      " [ 80.74272579]\n",
      " [ 83.96652209]\n",
      " [ 85.1217618 ]\n",
      " [ 84.2347531 ]\n",
      " [ 83.15856073]\n",
      " [ 81.6840549 ]\n",
      " [ 83.55748661]\n",
      " [ 86.06258644]\n",
      " [ 85.44450651]\n",
      " [ 87.4525291 ]\n",
      " [ 87.24830019]\n",
      " [ 87.96311368]\n",
      " [ 87.13595427]\n",
      " [ 88.42600547]\n",
      " [ 89.76658167]\n",
      " [ 90.09681864]\n",
      " [ 93.08202012]\n",
      " [ 96.3996705 ]\n",
      " [ 98.11221929]\n",
      " [ 97.75991158]\n",
      " [ 95.01174935]\n",
      " [ 94.07943472]\n",
      " [ 94.07098207]\n",
      " [ 93.32834432]\n",
      " [ 93.37723652]\n",
      " [ 93.37221902]\n",
      " [ 93.55671504]\n",
      " [ 94.23473651]\n",
      " [ 92.97071027]\n",
      " [ 92.23448462]\n",
      " [ 93.52605449]\n",
      " [ 92.94319297]\n",
      " [ 90.30485321]\n",
      " [ 89.44623061]\n",
      " [ 91.95458596]\n",
      " [ 92.23537006]\n",
      " [ 91.29029834]\n",
      " [ 91.27664994]\n",
      " [ 91.43446268]\n",
      " [ 92.52448685]\n",
      " [ 92.98602796]\n",
      " [ 93.45465077]\n",
      " [ 94.30624669]\n",
      " [ 95.10080538]\n",
      " [ 95.36997426]\n",
      " [ 95.23515436]\n",
      " [ 96.53990266]\n",
      " [ 97.67300702]\n",
      " [100.27753473]\n",
      " [103.58500501]\n",
      " [102.52006032]\n",
      " [102.78728791]\n",
      " [107.08477274]\n",
      " [104.79722019]\n",
      " [101.58053291]\n",
      " [ 97.59422246]\n",
      " [ 96.03451025]\n",
      " [ 95.94616309]\n",
      " [ 97.12289557]\n",
      " [ 97.19217587]\n",
      " [ 97.53713177]\n",
      " [ 97.83953157]\n",
      " [ 98.75293307]\n",
      " [ 99.40523126]\n",
      " [ 99.60214747]\n",
      " [ 99.04842795]\n",
      " [100.45600668]\n",
      " [ 99.97630903]\n",
      " [ 98.11791147]\n",
      " [ 99.35754508]\n",
      " [ 99.33044929]\n",
      " [102.08782654]\n",
      " [101.68609468]\n",
      " [100.30849281]\n",
      " [100.89053947]\n",
      " [102.50202094]\n",
      " [101.84356181]\n",
      " [100.89808333]\n",
      " [ 98.71255114]\n",
      " [ 98.87311123]\n",
      " [ 97.06736981]\n",
      " [ 95.25234478]\n",
      " [ 94.41563422]\n",
      " [ 92.82184605]\n",
      " [ 90.10633571]\n",
      " [ 92.41113779]\n",
      " [ 95.20649357]\n",
      " [ 94.55321923]\n",
      " [ 97.80392328]\n",
      " [ 98.53857667]\n",
      " [ 96.39289279]\n",
      " [ 97.74207763]\n",
      " [ 97.32475892]\n",
      " [ 97.60411723]\n",
      " [ 98.34098754]\n",
      " [ 97.16309963]\n",
      " [ 97.56276804]\n",
      " [ 97.68140165]\n",
      " [ 97.13860711]\n",
      " [ 97.73840556]\n",
      " [ 99.09501453]\n",
      " [100.01973406]\n",
      " [ 98.87007773]\n",
      " [100.90367928]\n",
      " [ 98.61559216]\n",
      " [100.55023607]\n",
      " [102.08787472]\n",
      " [102.35142753]\n",
      " [103.75584925]\n",
      " [102.2207662 ]\n",
      " [100.78979954]\n",
      " [103.27143814]\n",
      " [103.54811904]\n",
      " [104.38470835]\n",
      " [105.09879374]\n",
      " [104.56192496]\n",
      " [105.85320839]]\n"
     ]
    }
   ],
   "source": [
    "print(U)\n",
    "\n",
    "print(U[:,:1])"
   ]
  },
  {
   "cell_type": "code",
   "execution_count": 35,
   "metadata": {},
   "outputs": [
    {
     "name": "stdout",
     "output_type": "stream",
     "text": [
      "p             |   1      2      3      4      5    ...10  ...20  ...30  ...40  ...90 \n",
      "-------------------------------------------------------------------------------------\n"
     ]
    },
    {
     "ename": "ValueError",
     "evalue": "operands could not be broadcast together with shapes (2734,100) (120,100) ",
     "output_type": "error",
     "traceback": [
      "\u001b[0;31m---------------------------------------------------------------------------\u001b[0m",
      "\u001b[0;31mValueError\u001b[0m                                Traceback (most recent call last)",
      "\u001b[0;32m<ipython-input-35-7a77d26ef7d6>\u001b[0m in \u001b[0;36m<module>\u001b[0;34m()\u001b[0m\n\u001b[1;32m     45\u001b[0m \u001b[0moutputString\u001b[0m \u001b[0;34m=\u001b[0m \u001b[0;34mf'{variableName:<14}|'\u001b[0m\u001b[0;34m\u001b[0m\u001b[0m\n\u001b[1;32m     46\u001b[0m \u001b[0;32mfor\u001b[0m \u001b[0mi\u001b[0m\u001b[0;34m,\u001b[0m \u001b[0mexampleValue\u001b[0m \u001b[0;32min\u001b[0m \u001b[0menumerate\u001b[0m\u001b[0;34m(\u001b[0m\u001b[0mvisualExamples\u001b[0m\u001b[0;34m)\u001b[0m\u001b[0;34m:\u001b[0m\u001b[0;34m\u001b[0m\u001b[0m\n\u001b[0;32m---> 47\u001b[0;31m     \u001b[0mvalue\u001b[0m \u001b[0;34m=\u001b[0m \u001b[0mgetMatMaxError\u001b[0m\u001b[0;34m(\u001b[0m\u001b[0mA\u001b[0m\u001b[0;34m,\u001b[0m \u001b[0mAhat\u001b[0m\u001b[0;34m[\u001b[0m\u001b[0mexampleValue\u001b[0m\u001b[0;34m-\u001b[0m\u001b[0;36m1\u001b[0m\u001b[0;34m]\u001b[0m\u001b[0;34m)\u001b[0m\u001b[0;34m\u001b[0m\u001b[0m\n\u001b[0m\u001b[1;32m     48\u001b[0m     \u001b[0moutputString\u001b[0m \u001b[0;34m+=\u001b[0m \u001b[0;34mf'{value:>7}'\u001b[0m\u001b[0;34m\u001b[0m\u001b[0m\n\u001b[1;32m     49\u001b[0m \u001b[0mprint\u001b[0m\u001b[0;34m(\u001b[0m\u001b[0moutputString\u001b[0m\u001b[0;34m)\u001b[0m\u001b[0;34m\u001b[0m\u001b[0m\n",
      "\u001b[0;32m<ipython-input-35-7a77d26ef7d6>\u001b[0m in \u001b[0;36mgetMatMaxError\u001b[0;34m(M1, M2, decimal)\u001b[0m\n\u001b[1;32m      4\u001b[0m     \u001b[0mof\u001b[0m \u001b[0mthe\u001b[0m \u001b[0msame\u001b[0m \u001b[0mshape\u001b[0m \u001b[0mto\u001b[0m \u001b[0ma\u001b[0m \u001b[0mspecified\u001b[0m \u001b[0mnumber\u001b[0m \u001b[0mof\u001b[0m \u001b[0mdecimal\u001b[0m \u001b[0mplaces\u001b[0m\u001b[0;34m.\u001b[0m\u001b[0;34m\u001b[0m\u001b[0m\n\u001b[1;32m      5\u001b[0m     \"\"\"\n\u001b[0;32m----> 6\u001b[0;31m     return round(np.amax(abs(M1 - M2)),\n\u001b[0m\u001b[1;32m      7\u001b[0m                  \u001b[0mdecimal\u001b[0m\u001b[0;34m\u001b[0m\u001b[0m\n\u001b[1;32m      8\u001b[0m                 )\n",
      "\u001b[0;31mValueError\u001b[0m: operands could not be broadcast together with shapes (2734,100) (120,100) "
     ]
    }
   ],
   "source": [
    "def getMatMaxError(M1, M2, decimal=1):\n",
    "    \"\"\"\n",
    "    Returns the maximum value of the absolute errors between two matrices (M1 & M2)\n",
    "    of the same shape to a specified number of decimal places.\n",
    "    \"\"\"\n",
    "    return round(np.amax(abs(M1 - M2)),\n",
    "                 decimal\n",
    "                )\n",
    "\n",
    "def getMatMeanError(M1, M2, decimal=1):\n",
    "    \"\"\"\n",
    "    Returns the mean value of the absolute errors between two matrices (M1 & M2)\n",
    "    of the same shape to a specified number of decimal places.\n",
    "    \"\"\"\n",
    "    return round(np.mean(abs(M1 - M2)),\n",
    "                 decimal\n",
    "                )\n",
    "\n",
    "def getCompression(A, Ahat, p, decimal=1):\n",
    "    \"\"\"\n",
    "    Returns the compression value between matrix A and it's approximation matrix Ahat\n",
    "    based on the number of singular values, p, used.\n",
    "    \n",
    "    p is the number of singular values used to approximate Ahat.\n",
    "    \"\"\"\n",
    "    kp = Ahat.shape[0]*p + p + p*Ahat.shape[1]      # kp = number of real numbers used in the pth approximation\n",
    "    return round(\n",
    "                    (1 - (kp/A.size))*100,\n",
    "                    decimal\n",
    "                 )\n",
    "\n",
    "variableName = 'p'\n",
    "outputString = f'{variableName:<14}|'\n",
    "for i, exampleValue in enumerate(visualExamples):\n",
    "    if exampleValue >= 10:\n",
    "        exampleValue = '...' + str(exampleValue)\n",
    "        outputString += f'{exampleValue:^7}'\n",
    "    else:\n",
    "        outputString += f'{exampleValue!s:^7}'\n",
    "print(outputString)\n",
    "\n",
    "print('{:85}'.format(85*'-'))\n",
    "\n",
    "variableName = 'Max error'\n",
    "outputString = f'{variableName:<14}|'\n",
    "for i, exampleValue in enumerate(visualExamples):\n",
    "    value = getMatMaxError(A, Ahat[exampleValue-1])            \n",
    "    outputString += f'{value:>7}'\n",
    "print(outputString)\n",
    "\n",
    "\n",
    "variableName = 'Mean error'\n",
    "outputString = f'{variableName:<14}|'\n",
    "for i, exampleValue in enumerate(visualExamples):\n",
    "    value = getMatMeanError(A, Ahat[exampleValue-1])\n",
    "    outputString += f'{value:>7}'\n",
    "print(outputString)\n",
    "\n",
    "variableName = 'Compression, %'\n",
    "outputString = f'{variableName:<14}|'\n",
    "for i, exampleValue in enumerate(visualExamples):   \n",
    "    value = getCompression(A, Ahat[exampleValue-1], exampleValue)            \n",
    "    outputString += f'{value:>7}'\n",
    "print(outputString)\n",
    "\n",
    "    \n"
   ]
  },
  {
   "cell_type": "markdown",
   "metadata": {},
   "source": [
    "Negative values of compression correspond to the SVD approximation taking more disk space to store than the original image (for example with p = 90). This is because SVD approximation requires 3 matrices U, D, and Vt which will eventually require use real numbers than the original image (just one matrix of numbers) the more singular values you use for approximation."
   ]
  },
  {
   "cell_type": "code",
   "execution_count": null,
   "metadata": {},
   "outputs": [],
   "source": [
    "print('{:<7s}{:<7}'.format('p', 'Compression (%)'))\n",
    "\n",
    "outputString = ''\n",
    "foundSmallest_p = False\n",
    "for i, value in enumerate(Ahat):\n",
    "    value = getCompression(A, value, i+1)\n",
    "    if not foundSmallest_p and value < 0:\n",
    "        outputString = outputString[:-2]\n",
    "        outputString += ' <----- Smallest value of p for positive compression\\n'\n",
    "        foundSmallest_p = True\n",
    "        smallest_p = (i, getCompression(A, Ahat[i-1], i))\n",
    "    outputString += f'{i+1:<7}{value:<7}\\n'\n",
    "print(outputString)\n",
    "print(f\"The smallest value of p for which compression is positive is p = {smallest_p[0]} which a compression of {smallest_p[1]}%\")\n",
    "    "
   ]
  },
  {
   "cell_type": "markdown",
   "metadata": {},
   "source": [
    "### d)"
   ]
  },
  {
   "cell_type": "code",
   "execution_count": null,
   "metadata": {},
   "outputs": [],
   "source": [
    "closestApprox = 49\n",
    "closestCompressionValue = getCompression(A, Ahat[closestApprox - 1], closestApprox)\n",
    "closestMeanError = getMatMeanError(A, Ahat[closestApprox - 1])\n",
    "\n",
    "print('The most compressed approximation suitable to me is Ahat49 using 49 singular values:')\n",
    "display_pgm(Ahat[49 - 1])\n",
    "print('Comparing to the original:')\n",
    "display_pgm(A)\n",
    "\n",
    "print('I chose this as the closest approximation because it was the first compressed approximation from which I could\\nsubjectively tell no difference with the original image as more singular values were used to approximate it.\\n')\n",
    "\n",
    "print('Approximation Ahat49:')\n",
    "print(f'Compression value (%) = {closestCompressionValue}')\n",
    "print(f'Mean Error = {closestMeanError}')"
   ]
  },
  {
   "cell_type": "markdown",
   "metadata": {},
   "source": [
    "## Problem 3 - Principal Components to Find Geographical Structure\n",
    "\n",
    "### a)"
   ]
  },
  {
   "cell_type": "code",
   "execution_count": 39,
   "metadata": {},
   "outputs": [
    {
     "name": "stdout",
     "output_type": "stream",
     "text": [
      "P =\n",
      " [[ 3.09648506e-03 -7.71296663e-04 -6.68420716e-03 ...  5.53448633e-03\n",
      "  -3.90495444e-02 -2.18303251e-02]\n",
      " [-9.67342500e-03  2.02000474e-03  3.15669971e-03 ... -1.77083240e-02\n",
      "  -1.14747193e-02  8.15756779e-03]\n",
      " [-1.11016778e-02 -3.41425323e-03  1.20764289e-02 ...  1.18204416e-02\n",
      "   8.97072838e-03  1.52274159e-02]\n",
      " ...\n",
      " [ 1.74953926e-02  2.86354319e-02 -3.06778303e-02 ...  9.65491971e-01\n",
      "   1.95407937e-03 -1.92278469e-03]\n",
      " [-1.75157623e-03 -7.24351979e-03  5.61735973e-03 ...  8.06892734e-04\n",
      "   9.60935566e-01 -1.33998470e-03]\n",
      " [-2.45181252e-03 -3.40308764e-02  5.40581362e-03 ... -2.45466235e-03\n",
      "  -2.27872721e-03  9.62073399e-01]]\n"
     ]
    }
   ],
   "source": [
    "import numpy as np\n",
    "import math\n",
    "\n",
    "def convertToMatrix(dataList, col):\n",
    "    '''\n",
    "    Converts a list of ints (dataList) into a 2D array according to number of columns (col). \n",
    "    '''\n",
    "    return np.array([dataList[i:i+col] for i in range(0, len(dataList), col)])\n",
    "\n",
    "def centreMatrix(M):\n",
    "    '''\n",
    "    Centres 2D array/matrix (M) so that each row sums to zero.\n",
    "    This is done by subrtracting each element by the row mean.\n",
    "    '''\n",
    "    numCols = M.shape[1]\n",
    "    means = [np.mean(row) for row in M]\n",
    "\n",
    "    matrixOfRowMeans = [\n",
    "        [means[i] for j in range(0, numCols)]\n",
    "        for i in range(0, len(means))\n",
    "    ]\n",
    "    matrixOfRowMeans = np.asarray(matrixOfRowMeans)\n",
    "    \n",
    "    return M - matrixOfRowMeans\n",
    "\n",
    "\n",
    "f = open('snps.txt','r')\n",
    "data = f.read()\n",
    "numCols = len(\n",
    "    data.partition('\\n')[0].split() # Finds the first column separated by '\\n' and splits it into a list of 1s and 0s\n",
    ")\n",
    "dataSplit = data.split()\n",
    "dataSplit = [int(digit) for digit in dataSplit] # converts list of strings into ints\n",
    "\n",
    "A = convertToMatrix(dataSplit, numCols).T\n",
    "B = centreMatrix(A)\n",
    "X = math.sqrt(1/(B.shape[1] - 1))*B\n",
    "\n",
    "P = np.linalg.svd(X)[0]  # Since the U matrix (index=0) of performing SVD on X is the projection matrix P\n",
    "                         # The columns of P are the eigenvectors of Sigma ((1/n-1)BBt)     \n",
    "print('P =\\n', P)\n",
    "    "
   ]
  },
  {
   "cell_type": "code",
   "execution_count": 5,
   "metadata": {},
   "outputs": [
    {
     "name": "stdout",
     "output_type": "stream",
     "text": [
      "                      Principal Component                      \n",
      "       1           2           3           4           5        \n",
      "---------------------------------------------------------------\n",
      "[[ 0.00309649 -0.0007713  -0.00668421  0.02467032 -0.00117122]\n",
      " [-0.00967343  0.00202     0.0031567  -0.01048967  0.01353448]\n",
      " [-0.01110168 -0.00341425  0.01207643  0.03225923 -0.00688643]\n",
      " [ 0.02960344 -0.02310279 -0.00512964 -0.01962407  0.01643924]\n",
      " [ 0.02029166  0.02630384 -0.01816446 -0.00753193  0.05100944]]\n",
      "\n",
      "\n",
      " Principal  \n",
      " Component  Singular Value\n",
      "--------------------------\n",
      "     1          5.0945    \n",
      "     2          3.4809    \n",
      "     3          3.0227    \n",
      "     4          3.0100    \n",
      "     5          2.9977    \n",
      "     6          2.9675    \n",
      "     7          2.9649    \n",
      "     8          2.9510    \n",
      "     9          2.9449    \n",
      "     10         2.9213    \n",
      "     11         2.9154    \n",
      "     12         2.8999    \n",
      "     13         2.8871    \n",
      "     14         2.8794    \n",
      "     15         2.8651    \n",
      "     16         2.8494    \n",
      "     17         2.8397    \n",
      "     18         2.8195    \n",
      "     19         2.8118    \n",
      "     20         2.8055    \n",
      "     21         2.7999    \n",
      "     22         2.7903    \n",
      "     23         2.7789    \n",
      "     24         2.7696    \n",
      "     25         2.7635    \n",
      "     26         2.7522    \n",
      "     27         2.7360    \n",
      "     28         2.7262    \n",
      "     29         2.7146    \n",
      "     30         2.7108    \n",
      "     31         2.6934    \n",
      "     32         2.6906    \n",
      "     33         2.6864    \n",
      "     34         2.6760    \n",
      "     35         2.6594    \n",
      "     36         2.6565    \n",
      "     37         2.6463    \n",
      "     38         2.6394    \n",
      "     39         2.6278    \n",
      "     40         2.6220    \n",
      "     41         2.6141    \n",
      "     42         2.6006    \n",
      "     43         2.5955    \n",
      "     44         2.5915    \n",
      "     45         2.5866    \n",
      "     46         2.5842    \n",
      "     47         2.5690    \n",
      "     48         2.5654    \n",
      "     49         2.5547    \n",
      "     50         2.5460    \n",
      "     51         2.5313    \n",
      "     52         2.5238    \n",
      "     53         2.5235    \n",
      "     54         2.5113    \n",
      "     55         2.5066    \n",
      "     56         2.4949    \n",
      "     57         2.4897    \n",
      "     58         2.4788    \n",
      "     59         2.4697    \n",
      "     60         2.4593    \n",
      "     61         2.4518    \n",
      "     62         2.4467    \n",
      "     63         2.4436    \n",
      "     64         2.4293    \n",
      "     65         2.4207    \n",
      "     66         2.4157    \n",
      "     67         2.4100    \n",
      "     68         2.3959    \n",
      "     69         2.3823    \n",
      "     70         2.3772    \n",
      "     71         2.3722    \n",
      "     72         2.3644    \n",
      "     73         2.3493    \n",
      "     74         2.3449    \n",
      "     75         2.3377    \n",
      "     76         2.3313    \n",
      "     77         2.3269    \n",
      "     78         2.3153    \n",
      "     79         2.3031    \n",
      "     80         2.2992    \n",
      "     81         2.2893    \n",
      "     82         2.2716    \n",
      "     83         2.2607    \n",
      "     84         2.2478    \n",
      "     85         2.2448    \n",
      "     86         2.2269    \n",
      "     87         2.2203    \n",
      "     88         2.2155    \n",
      "     89         2.1987    \n",
      "     90         2.1836    \n",
      "     91         2.1823    \n",
      "     92         2.1699    \n",
      "     93         2.1570    \n",
      "     94         2.1396    \n",
      "     95         2.1359    \n",
      "     96         2.1073    \n",
      "     97         2.0917    \n",
      "     98         2.0769    \n",
      "     99         2.0245    \n",
      "    100         2.9787e-15\n"
     ]
    }
   ],
   "source": [
    "print('{:^63}'.format('Principal Component'))\n",
    "print('  {:^12}{:^12}{:^12}{:^12}{:^12}  '.format(1, 2, 3, 4, 5))\n",
    "print('-'*63)\n",
    "print(P[:5,:5], end='\\n\\n\\n')\n",
    "\n",
    "\n",
    "d = np.linalg.svd(X)[1]\n",
    "print('{:^12}'.format('Principal'))\n",
    "print('{:^12}{:^14}'.format('Component', 'Singular Value'))\n",
    "print('-'*26)\n",
    "for i, singularValue in enumerate(d):\n",
    "    if singularValue < 0.0001:\n",
    "        print(f'{i+1:^12}{singularValue:>14.{5}g}')\n",
    "    else: \n",
    "        print(f'{i+1:^12}{singularValue:^14.{4}f}')"
   ]
  },
  {
   "cell_type": "code",
   "execution_count": 40,
   "metadata": {
    "scrolled": true
   },
   "outputs": [
    {
     "name": "stdout",
     "output_type": "stream",
     "text": [
      "Matrix L: How much each individual (by row) is in direction of the first two principal components:\n",
      "\n",
      "    Principal Component:   \n",
      "       1           2      \n",
      "-------------------------\n",
      "[[12.25345945  7.66429527]\n",
      " [13.31654607  5.23714412]\n",
      " [13.37543386  6.47311786]\n",
      " [13.42642572 -0.3636625 ]\n",
      " [15.92288863 -0.74686909]\n",
      " [14.68502787  0.59857039]\n",
      " [13.81938536  7.51558499]\n",
      " [15.15975615 -1.45318795]\n",
      " [15.77602965 -0.65129337]\n",
      " [14.06883483  5.88993335]\n",
      " [14.01610033 -0.18179319]\n",
      " [ 2.00172653  0.74173201]\n",
      " [ 1.35411827  1.3899567 ]\n",
      " [13.72498617  6.2981713 ]\n",
      " [ 2.01946814  2.15120017]\n",
      " [14.17543562 -1.3568976 ]\n",
      " [13.36615439  0.09546892]\n",
      " [14.2147831  -2.02240075]\n",
      " [ 2.15193829  0.43390261]\n",
      " [13.9484748  -0.19928523]\n",
      " [14.66870428  0.64094981]\n",
      " [ 1.71200916  2.72280705]\n",
      " [14.34130585 -2.26695624]\n",
      " [11.96829961  8.14189593]\n",
      " [14.91098254  0.06427109]\n",
      " [13.55784888  4.55324331]\n",
      " [13.70352075  7.33297375]\n",
      " [ 1.56403991  1.75443817]\n",
      " [14.74362412 -1.63828965]\n",
      " [13.07938751  6.01307742]\n",
      " [ 1.18860562  2.26175799]\n",
      " [ 2.35532045  1.29908707]\n",
      " [14.84878959 -1.16003582]\n",
      " [13.89933484 -1.54630099]\n",
      " [13.24650597  7.13675141]\n",
      " [ 1.44452702  0.43617283]\n",
      " [13.91432788 -0.83857749]\n",
      " [13.22975552  7.10393676]\n",
      " [12.95149783  6.77268441]\n",
      " [13.84728701  7.24131021]\n",
      " [15.54855289  0.48014098]\n",
      " [13.62856983  8.13565204]\n",
      " [13.04981635  6.22777817]\n",
      " [14.8049511   0.25357018]\n",
      " [14.53042279 -0.94688642]\n",
      " [14.56786073 -1.28729582]\n",
      " [ 1.56629094  1.97031132]\n",
      " [16.3823496  -0.78202532]\n",
      " [12.92211219  8.16516287]\n",
      " [13.30482571  7.5691645 ]\n",
      " [ 1.67262747  2.31197033]\n",
      " [ 1.30082632  0.61628999]\n",
      " [15.21603563  0.68853252]\n",
      " [13.21934091  1.39157659]\n",
      " [ 2.2788598   0.88643751]\n",
      " [16.19798447 -1.17228542]\n",
      " [13.39741022  8.48932145]\n",
      " [14.05205921 -0.79591156]\n",
      " [14.63965826 -2.52415656]\n",
      " [15.2270695  -1.33367685]\n",
      " [14.01459295  6.80412795]\n",
      " [14.23390426 -0.8303667 ]\n",
      " [ 1.4750014   1.9543763 ]\n",
      " [14.81658985  2.48592913]\n",
      " [12.97091527  7.64445659]\n",
      " [ 1.79158136  2.64578082]\n",
      " [ 1.69875521  2.74685752]\n",
      " [15.1751364  -0.42829664]\n",
      " [13.45445392  1.23311542]\n",
      " [13.69717587 -2.74914682]\n",
      " [13.46783027 -0.88601077]\n",
      " [13.54347214  6.17660328]\n",
      " [13.24094658  5.55670139]\n",
      " [14.78015433 -0.46954215]\n",
      " [13.22309225  7.02747942]\n",
      " [14.11897665 -2.42066873]\n",
      " [14.39252814 -2.3178696 ]\n",
      " [ 1.78568049  0.30739721]\n",
      " [14.09314452  7.46791551]\n",
      " [15.65294799  1.02324362]\n",
      " [16.0458427   0.76143479]\n",
      " [14.5551633   8.44662889]\n",
      " [13.10984127  6.54518317]\n",
      " [15.55651732  0.07928285]\n",
      " [14.77185471 -1.07320141]\n",
      " [14.78484013 -0.95077119]\n",
      " [14.33380527  8.54104442]\n",
      " [15.20827034  0.81722083]\n",
      " [15.22667251 -0.1848578 ]\n",
      " [13.69068884  7.27373011]\n",
      " [14.65107322  0.11587801]\n",
      " [13.37657793  7.53458037]\n",
      " [ 1.35910613  1.48218772]\n",
      " [13.96367614  0.93148799]\n",
      " [15.26097191  0.95151365]\n",
      " [ 1.57353515  1.30723484]\n",
      " [ 1.75990533  1.35033108]\n",
      " [14.83494117 -2.39131583]\n",
      " [14.3920027   6.77375209]\n",
      " [14.90921092 -0.30910221]]\n"
     ]
    }
   ],
   "source": [
    "#print(P[:,:2].T.shape, A.shape)\n",
    "\n",
    "L = np.matmul(P[:,:2].T, A).T    # Projecting original matrix A onto the first two principal components of projection matrix P\n",
    "\n",
    "print(\"Matrix L: How much each individual (by row) is in direction of the first two principal components:\\n\")\n",
    "print('  {:^25}'.format('Principal Component:'))\n",
    "print('  {:^12}{:^12}'.format(1, 2))\n",
    "print('-'*25)\n",
    "print(L)\n"
   ]
  },
  {
   "cell_type": "code",
   "execution_count": 41,
   "metadata": {},
   "outputs": [
    {
     "data": {
      "image/png": "[encoded data removed]",
      "text/plain": [
       "<Figure size 432x288 with 1 Axes>"
      ]
     },
     "metadata": {},
     "output_type": "display_data"
    }
   ],
   "source": [
    "import matplotlib.pyplot as plt\n",
    "\n",
    "def plotPopulation(boundaries = False, **kwargs):\n",
    "    plt.plot(kwargs['x'], kwargs['y'], kwargs['pointType'])\n",
    "    plt.xlabel(kwargs['xlabel'])\n",
    "    plt.ylabel(kwargs['ylabel'])\n",
    "    plt.text(9,-7, kwargs['description'], size=12, ha=\"center\")\n",
    "    if boundaries == True:\n",
    "        plt.axhline(3.5, ls='--', c='r' )\n",
    "        plt.axvline(8, ls='--', c='r' )\n",
    "        plt.text(4,0, 'A', size=20, color='b', ha=\"center\")\n",
    "        plt.text(11,0, 'B', size=20, color='b', ha=\"center\")\n",
    "        plt.text(11,6, 'C', size=20, color='b', ha=\"center\")\n",
    "    plt.show()\n",
    "\n",
    "xlabelString = 'Amount in direction of 1st principal component'\n",
    "ylabelString = 'Amount in direction of 2nd principal component'\n",
    "\n",
    "fig1description = \"fig 1. A principal component analysis of single nucleotide polymorphisms (SNPs) \\\n",
    "in a geographically structured population.\\nThe population individual's (n=100) similarities \\\n",
    "with the first two principal components\"\n",
    "plotPopulation(x = L[:,0], \n",
    "               y = L[:,1],\n",
    "               description=fig1description,\n",
    "               xlabel=xlabelString,\n",
    "               ylabel=ylabelString,\n",
    "               pointType='gx'\n",
    "              )"
   ]
  },
  {
   "cell_type": "markdown",
   "metadata": {},
   "source": [
    "It appears as is there are 3 distinct sub-populations represented by 3 clusters of individuals (Figure 1). A rule to partition these sub-populations could be define:\n",
    "* Sub-population A: Being <= 8 in the direction of the first principal component\n",
    "* Sub-population B: Being < 8 in the direction of the first principal component AND <= 3.5 in the direction of the second principal component\n",
    "* Sub-population C: Being < 8 in the direction of the first principal component AND > 3.5 in the direction of the second principal component\n",
    "\n",
    "as represented in the below graph:"
   ]
  },
  {
   "cell_type": "code",
   "execution_count": 42,
   "metadata": {},
   "outputs": [
    {
     "data": {
      "image/png": "[encoded data removed]",
      "text/plain": [
       "<Figure size 432x288 with 1 Axes>"
      ]
     },
     "metadata": {},
     "output_type": "display_data"
    }
   ],
   "source": [
    "fig2description = \"fig 2. Partitioning the geographically structured population into different sub-populations where sub-population:\\n\\\n",
    "A is <= 8 in 1st principle component (PC); B is > 8 on 1st PC and <= 3.5 on 2nd PC; C is > 8 on 1st PC and > 3.5 on 2nd PC.\"\n",
    "plotPopulation(x = L[:,0], \n",
    "               y = L[:,1],\n",
    "               description=fig2description,\n",
    "               xlabel=xlabelString,\n",
    "               ylabel=ylabelString,\n",
    "               pointType='gx',\n",
    "               boundaries=True\n",
    "              )"
   ]
  },
  {
   "cell_type": "code",
   "execution_count": 62,
   "metadata": {},
   "outputs": [
    {
     "name": "stdout",
     "output_type": "stream",
     "text": [
      "Size of sub-population A = 20\n",
      "Size of sub-population B = 49\n",
      "Size of sub-population c = 31\n",
      "\n",
      "List of individuals in sub-population C (largest sub-population):\n",
      "\n",
      " Individual       Principal Component      \n",
      "(Row number)         1            2  \n",
      "-------------------------------------------\n",
      "     0         [12.25345945  7.66429527]   \n",
      "     1         [13.31654607  5.23714412]   \n",
      "     2         [13.37543386  6.47311786]   \n",
      "     6         [13.81938536  7.51558499]   \n",
      "     9         [14.06883483  5.88993335]   \n",
      "     13        [13.72498617  6.2981713 ]   \n",
      "     23        [11.96829961  8.14189593]   \n",
      "     25        [13.55784888  4.55324331]   \n",
      "     26        [13.70352075  7.33297375]   \n",
      "     29        [13.07938751  6.01307742]   \n",
      "     34        [13.24650597  7.13675141]   \n",
      "     37        [13.22975552  7.10393676]   \n",
      "     38        [12.95149783  6.77268441]   \n",
      "     39        [13.84728701  7.24131021]   \n",
      "     41        [13.62856983  8.13565204]   \n",
      "     42        [13.04981635  6.22777817]   \n",
      "     48        [12.92211219  8.16516287]   \n",
      "     49        [13.30482571  7.5691645 ]   \n",
      "     56        [13.39741022  8.48932145]   \n",
      "     60        [14.01459295  6.80412795]   \n",
      "     64        [12.97091527  7.64445659]   \n",
      "     71        [13.54347214  6.17660328]   \n",
      "     72        [13.24094658  5.55670139]   \n",
      "     74        [13.22309225  7.02747942]   \n",
      "     78        [14.09314452  7.46791551]   \n",
      "     81        [14.5551633   8.44662889]   \n",
      "     82        [13.10984127  6.54518317]   \n",
      "     86        [14.33380527  8.54104442]   \n",
      "     89        [13.69068884  7.27373011]   \n",
      "     91        [13.37657793  7.53458037]   \n",
      "     98        [14.3920027   6.77375209]   \n",
      "\n"
     ]
    }
   ],
   "source": [
    "subpopulationA = []\n",
    "subpopulationB = []\n",
    "subpopulationC = []\n",
    "\n",
    "for i, value in enumerate(L):\n",
    "    if value[0] <= 8:\n",
    "        subpopulationA.append((i, value))\n",
    "        #print(f'Individual {i} added to subpopulationA')\n",
    "    else:\n",
    "        if value[1] <= 3.5:\n",
    "            subpopulationB.append((i, value))\n",
    "            #print(f'Individual {i} added to subpopulationB')\n",
    "        else:\n",
    "            subpopulationC.append((i, value))\n",
    "            #print(f'Individual {i} added to subpopulationC')\n",
    "\n",
    "print(f'Size of sub-population A = {len(subpopulationA)}')\n",
    "print(f'Size of sub-population B = {len(subpopulationB)}')\n",
    "print(f'Size of sub-population c = {len(subpopulationC)}\\n')\n",
    "\n",
    "print(\"List of individuals in sub-population C (largest sub-population):\\n\")\n",
    "print('{:^12}{:^31}'.format('Individual', 'Principal Component'))\n",
    "print('{:^12}{:^20}{:^5}'.format('(Row number)', 1, 2))\n",
    "print('-'*43)\n",
    "for i, value in enumerate(subpopulationC):\n",
    "    print('{:^12}{:^31}'.format(str(value[0]), str(value[1])))\n",
    "\n",
    "print()"
   ]
  },
  {
   "cell_type": "code",
   "execution_count": null,
   "metadata": {},
   "outputs": [],
   "source": []
  }
 ],
 "metadata": {
  "kernelspec": {
   "display_name": "Python 3",
   "language": "python",
   "name": "python3"
  },
  "language_info": {
   "codemirror_mode": {
    "name": "ipython",
    "version": 3
   },
   "file_extension": ".py",
   "mimetype": "text/x-python",
   "name": "python",
   "nbconvert_exporter": "python",
   "pygments_lexer": "ipython3",
   "version": "3.6.4"
  }
 },
 "nbformat": 4,
 "nbformat_minor": 2
}
